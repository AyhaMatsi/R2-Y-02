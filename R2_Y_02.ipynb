{
 "cells": [
  {
   "cell_type": "markdown",
   "metadata": {
    "id": "SzyLWPvn1tP2"
   },
   "source": [
    "#Optimization of Evacuation Routes in Philippine Science High School – Main Campus (PSHS-MC) Using Cellular Automata Crowd Modeling"
   ]
  },
  {
   "cell_type": "code",
   "execution_count": 9,
   "metadata": {
    "colab": {
     "base_uri": "https://localhost:8080/",
     "height": 286
    },
    "id": "9Wm4K9pTycyr",
    "outputId": "a9b7e800-95de-426e-c9af-a615e0f795fe"
   },
   "outputs": [
    {
     "ename": "RuntimeError",
     "evalue": "Requested MovieWriter (ffmpeg) not available",
     "output_type": "error",
     "traceback": [
      "\u001b[1;31m---------------------------------------------------------------------------\u001b[0m",
      "\u001b[1;31mRuntimeError\u001b[0m                              Traceback (most recent call last)",
      "Cell \u001b[1;32mIn[9], line 49\u001b[0m\n\u001b[0;32m     47\u001b[0m \u001b[38;5;66;03m#esoteric display code\u001b[39;00m\n\u001b[0;32m     48\u001b[0m \u001b[38;5;28;01mfrom\u001b[39;00m \u001b[38;5;21;01mIPython\u001b[39;00m\u001b[38;5;21;01m.\u001b[39;00m\u001b[38;5;21;01mdisplay\u001b[39;00m \u001b[38;5;28;01mimport\u001b[39;00m HTML\n\u001b[1;32m---> 49\u001b[0m HTML(\u001b[43manim\u001b[49m\u001b[38;5;241;43m.\u001b[39;49m\u001b[43mto_html5_video\u001b[49m\u001b[43m(\u001b[49m\u001b[43m)\u001b[49m)\n\u001b[0;32m     50\u001b[0m plt\u001b[38;5;241m.\u001b[39mshow()\n",
      "File \u001b[1;32mc:\\Users\\W10\\R2-Y-02\\.venv\\Lib\\site-packages\\matplotlib\\animation.py:1302\u001b[0m, in \u001b[0;36mAnimation.to_html5_video\u001b[1;34m(self, embed_limit)\u001b[0m\n\u001b[0;32m   1299\u001b[0m path \u001b[38;5;241m=\u001b[39m Path(tmpdir, \u001b[38;5;124m\"\u001b[39m\u001b[38;5;124mtemp.m4v\u001b[39m\u001b[38;5;124m\"\u001b[39m)\n\u001b[0;32m   1300\u001b[0m \u001b[38;5;66;03m# We create a writer manually so that we can get the\u001b[39;00m\n\u001b[0;32m   1301\u001b[0m \u001b[38;5;66;03m# appropriate size for the tag\u001b[39;00m\n\u001b[1;32m-> 1302\u001b[0m Writer \u001b[38;5;241m=\u001b[39m \u001b[43mwriters\u001b[49m\u001b[43m[\u001b[49m\u001b[43mmpl\u001b[49m\u001b[38;5;241;43m.\u001b[39;49m\u001b[43mrcParams\u001b[49m\u001b[43m[\u001b[49m\u001b[38;5;124;43m'\u001b[39;49m\u001b[38;5;124;43manimation.writer\u001b[39;49m\u001b[38;5;124;43m'\u001b[39;49m\u001b[43m]\u001b[49m\u001b[43m]\u001b[49m\n\u001b[0;32m   1303\u001b[0m writer \u001b[38;5;241m=\u001b[39m Writer(codec\u001b[38;5;241m=\u001b[39m\u001b[38;5;124m'\u001b[39m\u001b[38;5;124mh264\u001b[39m\u001b[38;5;124m'\u001b[39m,\n\u001b[0;32m   1304\u001b[0m                 bitrate\u001b[38;5;241m=\u001b[39mmpl\u001b[38;5;241m.\u001b[39mrcParams[\u001b[38;5;124m'\u001b[39m\u001b[38;5;124manimation.bitrate\u001b[39m\u001b[38;5;124m'\u001b[39m],\n\u001b[0;32m   1305\u001b[0m                 fps\u001b[38;5;241m=\u001b[39m\u001b[38;5;241m1000.\u001b[39m \u001b[38;5;241m/\u001b[39m \u001b[38;5;28mself\u001b[39m\u001b[38;5;241m.\u001b[39m_interval)\n\u001b[0;32m   1306\u001b[0m \u001b[38;5;28mself\u001b[39m\u001b[38;5;241m.\u001b[39msave(\u001b[38;5;28mstr\u001b[39m(path), writer\u001b[38;5;241m=\u001b[39mwriter)\n",
      "File \u001b[1;32mc:\\Users\\W10\\R2-Y-02\\.venv\\Lib\\site-packages\\matplotlib\\animation.py:121\u001b[0m, in \u001b[0;36mMovieWriterRegistry.__getitem__\u001b[1;34m(self, name)\u001b[0m\n\u001b[0;32m    119\u001b[0m \u001b[38;5;28;01mif\u001b[39;00m \u001b[38;5;28mself\u001b[39m\u001b[38;5;241m.\u001b[39mis_available(name):\n\u001b[0;32m    120\u001b[0m     \u001b[38;5;28;01mreturn\u001b[39;00m \u001b[38;5;28mself\u001b[39m\u001b[38;5;241m.\u001b[39m_registered[name]\n\u001b[1;32m--> 121\u001b[0m \u001b[38;5;28;01mraise\u001b[39;00m \u001b[38;5;167;01mRuntimeError\u001b[39;00m(\u001b[38;5;124mf\u001b[39m\u001b[38;5;124m\"\u001b[39m\u001b[38;5;124mRequested MovieWriter (\u001b[39m\u001b[38;5;132;01m{\u001b[39;00mname\u001b[38;5;132;01m}\u001b[39;00m\u001b[38;5;124m) not available\u001b[39m\u001b[38;5;124m\"\u001b[39m)\n",
      "\u001b[1;31mRuntimeError\u001b[0m: Requested MovieWriter (ffmpeg) not available"
     ]
    },
    {
     "data": {
      "image/png": "[encoded data removed]",
      "text/plain": [
       "<Figure size 640x480 with 1 Axes>"
      ]
     },
     "metadata": {},
     "output_type": "display_data"
    }
   ],
   "source": [
    "\"\"\"2D Cellular Automaton\"\"\"\n",
    "\n",
    "import numpy as np\n",
    "import cellpylib as cpl\n",
    "import matplotlib.pyplot as plt\n",
    "import matplotlib.animation as anime\n",
    "from mpl_toolkits.mplot3d import Axes3D\n",
    "import matplotlib.collections as mcoll\n",
    "\n",
    "frames=250\n",
    "\n",
    "#init setup\n",
    "cellularAutomaton = cpl.init_simple2d(4,9)\n",
    "\n",
    "cellularAutomaton[:, [1,2], [3,3]] = 1\n",
    "cellularAutomaton[:, [2,2], [4,5]] = 1\n",
    "cellularAutomaton[:, [3], [2]] = 1 # can be changed\n",
    "\n",
    "#cellularAutomaton = cpl.init_random2d(rows:60, cols:60)\n",
    "\n",
    "cellularAutomaton = cpl.evolve2d(cellularAutomaton, timesteps=frames, neighbourhood='Moore', # timestamps must be = frames in line with ani\n",
    "                                 apply_rule=cpl.game_of_life_rule,\n",
    "                                 memoize = 'recursive')\n",
    "\n",
    "# cellularAutomaton = cpl.evolve2d(cellularAutomaton, timesteps=frames, neighbourhood='Moore', # timestamps must be = frames in line with ani\n",
    "#                                  apply_rule = lambda n,c,t: cpl.totalistic_rule(n,k=2,rule=126),\n",
    "#                                  memorize = 'recursive')\n",
    "\n",
    "#cpl.plot2d(cellularAutomaton)\n",
    "\n",
    "fig, ax = plt.subplots()\n",
    "ax.set_xlim((0,9))\n",
    "ax.set_ylim((0,4))\n",
    "\n",
    "img = ax.imshow(cellularAutomaton[0], interpolation='nearest', cmap='Greys')\n",
    "\n",
    "def init():\n",
    "    img.set_data(cellularAutomaton[0])\n",
    "    return(img,)\n",
    "\n",
    "def ani(i):\n",
    "    img.set_data(cellularAutomaton[i])\n",
    "    return (img,)\n",
    "\n",
    "anim = anime.FuncAnimation(fig, ani, init_func=init, frames = frames, interval = 30, blit = True, repeat = False)\n",
    "\n",
    "#esoteric display code\n",
    "from IPython.display import HTML\n",
    "HTML(anim.to_html5_video())\n",
    "plt.show()"
   ]
  },
  {
   "cell_type": "code",
   "execution_count": null,
   "metadata": {
    "id": "1k5_B8Ukactc"
   },
   "outputs": [],
   "source": [
    " \"\"\"1D Cellular Automaton\"\"\"\n",
    "\n",
    "class CustomRule(cpl.BaseRule):\n",
    "  def __call__(self,n,c,t):\n",
    "    #return n[1] + 1\n",
    "    return 1 if n[1] != n[0] else 0\n",
    "\n",
    "rule = CustomRule()\n",
    "\n",
    "cellular_automata = cpl.init_simple(200)\n",
    "\n",
    "cellular_automata = cpl.evolve(cellular_automata, timesteps=60, apply_rule = CustomRule())\n",
    "\n",
    "cpl.plot(cellular_automata)\n",
    "\n",
    "fig, ax = plt.subplots()\n",
    "mat = ax.matshow(cellular_automata, cmap='binary')\n",
    "plt.axis('off')\n"
   ]
  }
 ],
 "metadata": {
  "colab": {
   "provenance": []
  },
  "kernelspec": {
   "display_name": ".venv",
   "language": "python",
   "name": "python3"
  },
  "language_info": {
   "codemirror_mode": {
    "name": "ipython",
    "version": 3
   },
   "file_extension": ".py",
   "mimetype": "text/x-python",
   "name": "python",
   "nbconvert_exporter": "python",
   "pygments_lexer": "ipython3",
   "version": "3.12.8"
  }
 },
 "nbformat": 4,
 "nbformat_minor": 0
}
